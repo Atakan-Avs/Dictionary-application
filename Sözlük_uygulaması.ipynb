{
 "cells": [
  {
   "cell_type": "code",
   "execution_count": 1,
   "id": "7cead676-9fe1-439b-9201-e8ba8c98f6a1",
   "metadata": {},
   "outputs": [
    {
     "name": "stdout",
     "output_type": "stream",
     "text": [
      "\n",
      "Sözlük uygulaması\n",
      "1.Kelime ekleme\n",
      "2.Kelime anlamı\n",
      "3.Çıkış\n"
     ]
    },
    {
     "name": "stdin",
     "output_type": "stream",
     "text": [
      "Lütfen seçiminizi yapınız:(1-3) 1\n",
      "Lütfen eklemek istediğiniz kelime ismini giriniz: home\n",
      "Lütfen kelime anlamını giriniz: ev\n"
     ]
    },
    {
     "name": "stdout",
     "output_type": "stream",
     "text": [
      "home ev listeye eklendi\n",
      "\n",
      "Sözlük uygulaması\n",
      "1.Kelime ekleme\n",
      "2.Kelime anlamı\n",
      "3.Çıkış\n"
     ]
    },
    {
     "name": "stdin",
     "output_type": "stream",
     "text": [
      "Lütfen seçiminizi yapınız:(1-3) 1\n",
      "Lütfen eklemek istediğiniz kelime ismini giriniz: maybe\n",
      "Lütfen kelime anlamını giriniz: belki\n"
     ]
    },
    {
     "name": "stdout",
     "output_type": "stream",
     "text": [
      "maybe belki listeye eklendi\n",
      "\n",
      "Sözlük uygulaması\n",
      "1.Kelime ekleme\n",
      "2.Kelime anlamı\n",
      "3.Çıkış\n"
     ]
    },
    {
     "name": "stdin",
     "output_type": "stream",
     "text": [
      "Lütfen seçiminizi yapınız:(1-3) 2\n",
      "Lütfen anlamını öğrenmek istediğiniz kelimeyi giriniz: maybe\n"
     ]
    },
    {
     "name": "stdout",
     "output_type": "stream",
     "text": [
      "maybe: belki\n",
      "\n",
      "Sözlük uygulaması\n",
      "1.Kelime ekleme\n",
      "2.Kelime anlamı\n",
      "3.Çıkış\n"
     ]
    },
    {
     "name": "stdin",
     "output_type": "stream",
     "text": [
      "Lütfen seçiminizi yapınız:(1-3) 2\n",
      "Lütfen anlamını öğrenmek istediğiniz kelimeyi giriniz: home\n"
     ]
    },
    {
     "name": "stdout",
     "output_type": "stream",
     "text": [
      "home: ev\n",
      "\n",
      "Sözlük uygulaması\n",
      "1.Kelime ekleme\n",
      "2.Kelime anlamı\n",
      "3.Çıkış\n"
     ]
    },
    {
     "name": "stdin",
     "output_type": "stream",
     "text": [
      "Lütfen seçiminizi yapınız:(1-3) 3\n"
     ]
    },
    {
     "name": "stdout",
     "output_type": "stream",
     "text": [
      "Çıkış yapılıyor..\n"
     ]
    }
   ],
   "source": [
    "sozluk={}\n",
    "\n",
    "while True:\n",
    "    print(\"\\nSözlük uygulaması\")\n",
    "    print(\"1.Kelime ekleme\")\n",
    "    print(\"2.Kelime anlamı\")\n",
    "    print(\"3.Çıkış\")\n",
    "\n",
    "    secim=input(\"Lütfen seçiminizi yapınız:(1-3)\")\n",
    "\n",
    "    if secim==\"1\":\n",
    "        kelime_ekle=input(\"Lütfen eklemek istediğiniz kelime ismini giriniz:\")\n",
    "        kelime_anlami=input(\"Lütfen kelime anlamını giriniz:\")\n",
    "        sozluk[kelime_ekle]=kelime_anlami\n",
    "        print(f\"{kelime_ekle} {kelime_anlami} listeye eklendi\")\n",
    "\n",
    "    elif secim==\"2\":\n",
    "        aranan_kelime=input(\"Lütfen anlamını öğrenmek istediğiniz kelimeyi giriniz:\")\n",
    "        if aranan_kelime in sozluk:\n",
    "            print(f\"{aranan_kelime}: {sozluk[aranan_kelime]}\")\n",
    "\n",
    "        else:\n",
    "            print(f\"Bu kelime sözlükte bulunamadı.\")\n",
    "\n",
    "    elif secim==\"3\":\n",
    "        print(\"Çıkış yapılıyor..\")\n",
    "        break"
   ]
  },
  {
   "cell_type": "code",
   "execution_count": null,
   "id": "d3830834-c97d-405b-8965-e9b20cc280cb",
   "metadata": {},
   "outputs": [],
   "source": []
  }
 ],
 "metadata": {
  "kernelspec": {
   "display_name": "Python 3 (ipykernel)",
   "language": "python",
   "name": "python3"
  },
  "language_info": {
   "codemirror_mode": {
    "name": "ipython",
    "version": 3
   },
   "file_extension": ".py",
   "mimetype": "text/x-python",
   "name": "python",
   "nbconvert_exporter": "python",
   "pygments_lexer": "ipython3",
   "version": "3.12.4"
  }
 },
 "nbformat": 4,
 "nbformat_minor": 5
}
